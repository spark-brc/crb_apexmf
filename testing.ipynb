{
 "metadata": {
  "language_info": {
   "codemirror_mode": {
    "name": "ipython",
    "version": 3
   },
   "file_extension": ".py",
   "mimetype": "text/x-python",
   "name": "python",
   "nbconvert_exporter": "python",
   "pygments_lexer": "ipython3",
   "version": "3.8.8"
  },
  "orig_nbformat": 2,
  "kernelspec": {
   "name": "python388jvsc74a57bd0c19faab1cd081a422e5f65da050e2b2bc306fae90c4181ff266839deed19893f",
   "display_name": "Python 3.8.8 64-bit ('stl38': conda)"
  }
 },
 "nbformat": 4,
 "nbformat_minor": 2,
 "cells": [
  {
   "cell_type": "code",
   "execution_count": 17,
   "metadata": {},
   "outputs": [],
   "source": [
    "import utils\n",
    "import numpy as np\n",
    "import matplotlib.pyplot as plt\n",
    "import plotly.graph_objects as go\n"
   ]
  },
  {
   "cell_type": "code",
   "execution_count": 3,
   "metadata": {},
   "outputs": [
    {
     "output_type": "stream",
     "name": "stderr",
     "text": [
      "C:\\Users\\seonggyu.park\\Miniconda3\\envs\\stl38\\lib\\site-packages\\pandas\\core\\frame.py:4441: SettingWithCopyWarning:\n\n\nA value is trying to be set on a copy of a slice from a DataFrame\n\nSee the caveats in the documentation: https://pandas.pydata.org/pandas-docs/stable/user_guide/indexing.html#returning-a-view-versus-a-copy\n\nC:\\Users\\seonggyu.park\\Miniconda3\\envs\\stl38\\lib\\site-packages\\pandas\\core\\frame.py:4441: SettingWithCopyWarning:\n\n\nA value is trying to be set on a copy of a slice from a DataFrame\n\nSee the caveats in the documentation: https://pandas.pydata.org/pandas-docs/stable/user_guide/indexing.html#returning-a-view-versus-a-copy\n\nC:\\Users\\seonggyu.park\\Miniconda3\\envs\\stl38\\lib\\site-packages\\pandas\\core\\frame.py:4441: SettingWithCopyWarning:\n\n\nA value is trying to be set on a copy of a slice from a DataFrame\n\nSee the caveats in the documentation: https://pandas.pydata.org/pandas-docs/stable/user_guide/indexing.html#returning-a-view-versus-a-copy\n\n"
     ]
    }
   ],
   "source": [
    "# if area == ws_nams[0]:\n",
    "sims = [12, 57, 75]\n",
    "obds = ['str_012', 'str_057', 'str_075']\n",
    "stdate = '1/1/1980'\n",
    "time_step ='M'\n",
    "caldate = '1/1/1992'\n",
    "eddate = '12/31/2001'\n",
    "\n",
    "df = utils.get_sim_obd('Animas', stdate, time_step, sims, obds, caldate, eddate)"
   ]
  },
  {
   "cell_type": "code",
   "execution_count": 4,
   "metadata": {},
   "outputs": [
    {
     "output_type": "execute_result",
     "data": {
      "text/plain": [
       "            sim_012  sim_057  sim_075  str_012  str_057  str_075\n",
       "1992-01-31   0.8408   11.630   11.780     1.14     8.10     8.24\n",
       "1992-02-29   1.0360   10.410   10.830     1.30     7.98     9.07\n",
       "1992-03-31   0.9574    9.539   12.430     1.69    12.86    12.74\n",
       "1992-04-30   9.0710   55.630   56.290     5.10    40.43    30.79\n",
       "1992-05-31  15.1600   38.070   38.690    18.74    87.18    71.35\n",
       "...             ...      ...      ...      ...      ...      ...\n",
       "2001-08-31  14.8900   39.860   40.140     6.59    19.71    15.15\n",
       "2001-09-30   9.6740   15.840   15.940     2.76     9.16     4.12\n",
       "2001-10-31   2.0960    9.534    9.646     2.15     7.61     4.69\n",
       "2001-11-30   0.4105    5.657    5.754     1.33     7.45     6.64\n",
       "2001-12-31   0.3527    5.115    5.227     1.42     7.39     8.06\n",
       "\n",
       "[120 rows x 6 columns]"
      ],
      "text/html": "<div>\n<style scoped>\n    .dataframe tbody tr th:only-of-type {\n        vertical-align: middle;\n    }\n\n    .dataframe tbody tr th {\n        vertical-align: top;\n    }\n\n    .dataframe thead th {\n        text-align: right;\n    }\n</style>\n<table border=\"1\" class=\"dataframe\">\n  <thead>\n    <tr style=\"text-align: right;\">\n      <th></th>\n      <th>sim_012</th>\n      <th>sim_057</th>\n      <th>sim_075</th>\n      <th>str_012</th>\n      <th>str_057</th>\n      <th>str_075</th>\n    </tr>\n  </thead>\n  <tbody>\n    <tr>\n      <th>1992-01-31</th>\n      <td>0.8408</td>\n      <td>11.630</td>\n      <td>11.780</td>\n      <td>1.14</td>\n      <td>8.10</td>\n      <td>8.24</td>\n    </tr>\n    <tr>\n      <th>1992-02-29</th>\n      <td>1.0360</td>\n      <td>10.410</td>\n      <td>10.830</td>\n      <td>1.30</td>\n      <td>7.98</td>\n      <td>9.07</td>\n    </tr>\n    <tr>\n      <th>1992-03-31</th>\n      <td>0.9574</td>\n      <td>9.539</td>\n      <td>12.430</td>\n      <td>1.69</td>\n      <td>12.86</td>\n      <td>12.74</td>\n    </tr>\n    <tr>\n      <th>1992-04-30</th>\n      <td>9.0710</td>\n      <td>55.630</td>\n      <td>56.290</td>\n      <td>5.10</td>\n      <td>40.43</td>\n      <td>30.79</td>\n    </tr>\n    <tr>\n      <th>1992-05-31</th>\n      <td>15.1600</td>\n      <td>38.070</td>\n      <td>38.690</td>\n      <td>18.74</td>\n      <td>87.18</td>\n      <td>71.35</td>\n    </tr>\n    <tr>\n      <th>...</th>\n      <td>...</td>\n      <td>...</td>\n      <td>...</td>\n      <td>...</td>\n      <td>...</td>\n      <td>...</td>\n    </tr>\n    <tr>\n      <th>2001-08-31</th>\n      <td>14.8900</td>\n      <td>39.860</td>\n      <td>40.140</td>\n      <td>6.59</td>\n      <td>19.71</td>\n      <td>15.15</td>\n    </tr>\n    <tr>\n      <th>2001-09-30</th>\n      <td>9.6740</td>\n      <td>15.840</td>\n      <td>15.940</td>\n      <td>2.76</td>\n      <td>9.16</td>\n      <td>4.12</td>\n    </tr>\n    <tr>\n      <th>2001-10-31</th>\n      <td>2.0960</td>\n      <td>9.534</td>\n      <td>9.646</td>\n      <td>2.15</td>\n      <td>7.61</td>\n      <td>4.69</td>\n    </tr>\n    <tr>\n      <th>2001-11-30</th>\n      <td>0.4105</td>\n      <td>5.657</td>\n      <td>5.754</td>\n      <td>1.33</td>\n      <td>7.45</td>\n      <td>6.64</td>\n    </tr>\n    <tr>\n      <th>2001-12-31</th>\n      <td>0.3527</td>\n      <td>5.115</td>\n      <td>5.227</td>\n      <td>1.42</td>\n      <td>7.39</td>\n      <td>8.06</td>\n    </tr>\n  </tbody>\n</table>\n<p>120 rows × 6 columns</p>\n</div>"
     },
     "metadata": {},
     "execution_count": 4
    }
   ],
   "source": [
    "df"
   ]
  },
  {
   "cell_type": "code",
   "execution_count": 24,
   "metadata": {},
   "outputs": [],
   "source": [
    "sort = np.sort(df.str_012)[::-1]"
   ]
  },
  {
   "cell_type": "code",
   "execution_count": 25,
   "metadata": {},
   "outputs": [],
   "source": [
    "exceedence = np.arange(1.,len(sort)+1) / len(sort)"
   ]
  },
  {
   "cell_type": "code",
   "execution_count": 26,
   "metadata": {},
   "outputs": [
    {
     "output_type": "execute_result",
     "data": {
      "text/plain": [
       "array([0.00833333, 0.01666667, 0.025     , 0.03333333, 0.04166667,\n",
       "       0.05      , 0.05833333, 0.06666667, 0.075     , 0.08333333,\n",
       "       0.09166667, 0.1       , 0.10833333, 0.11666667, 0.125     ,\n",
       "       0.13333333, 0.14166667, 0.15      , 0.15833333, 0.16666667,\n",
       "       0.175     , 0.18333333, 0.19166667, 0.2       , 0.20833333,\n",
       "       0.21666667, 0.225     , 0.23333333, 0.24166667, 0.25      ,\n",
       "       0.25833333, 0.26666667, 0.275     , 0.28333333, 0.29166667,\n",
       "       0.3       , 0.30833333, 0.31666667, 0.325     , 0.33333333,\n",
       "       0.34166667, 0.35      , 0.35833333, 0.36666667, 0.375     ,\n",
       "       0.38333333, 0.39166667, 0.4       , 0.40833333, 0.41666667,\n",
       "       0.425     , 0.43333333, 0.44166667, 0.45      , 0.45833333,\n",
       "       0.46666667, 0.475     , 0.48333333, 0.49166667, 0.5       ,\n",
       "       0.50833333, 0.51666667, 0.525     , 0.53333333, 0.54166667,\n",
       "       0.55      , 0.55833333, 0.56666667, 0.575     , 0.58333333,\n",
       "       0.59166667, 0.6       , 0.60833333, 0.61666667, 0.625     ,\n",
       "       0.63333333, 0.64166667, 0.65      , 0.65833333, 0.66666667,\n",
       "       0.675     , 0.68333333, 0.69166667, 0.7       , 0.70833333,\n",
       "       0.71666667, 0.725     , 0.73333333, 0.74166667, 0.75      ,\n",
       "       0.75833333, 0.76666667, 0.775     , 0.78333333, 0.79166667,\n",
       "       0.8       , 0.80833333, 0.81666667, 0.825     , 0.83333333,\n",
       "       0.84166667, 0.85      , 0.85833333, 0.86666667, 0.875     ,\n",
       "       0.88333333, 0.89166667, 0.9       , 0.90833333, 0.91666667,\n",
       "       0.925     , 0.93333333, 0.94166667, 0.95      , 0.95833333,\n",
       "       0.96666667, 0.975     , 0.98333333, 0.99166667, 1.        ])"
      ]
     },
     "metadata": {},
     "execution_count": 26
    }
   ],
   "source": [
    "exceedence"
   ]
  },
  {
   "cell_type": "code",
   "execution_count": 27,
   "metadata": {},
   "outputs": [
    {
     "output_type": "display_data",
     "data": {
      "application/vnd.plotly.v1+json": {
       "config": {
        "plotlyServerURL": "https://plot.ly"
       },
       "data": [
        {
         "name": "Reach",
         "type": "scatter",
         "x": [
          0.008333333333333333,
          0.016666666666666666,
          0.025,
          0.03333333333333333,
          0.041666666666666664,
          0.05,
          0.058333333333333334,
          0.06666666666666667,
          0.075,
          0.08333333333333333,
          0.09166666666666666,
          0.1,
          0.10833333333333334,
          0.11666666666666667,
          0.125,
          0.13333333333333333,
          0.14166666666666666,
          0.15,
          0.15833333333333333,
          0.16666666666666666,
          0.175,
          0.18333333333333332,
          0.19166666666666668,
          0.2,
          0.20833333333333334,
          0.21666666666666667,
          0.225,
          0.23333333333333334,
          0.24166666666666667,
          0.25,
          0.25833333333333336,
          0.26666666666666666,
          0.275,
          0.2833333333333333,
          0.2916666666666667,
          0.3,
          0.30833333333333335,
          0.31666666666666665,
          0.325,
          0.3333333333333333,
          0.3416666666666667,
          0.35,
          0.35833333333333334,
          0.36666666666666664,
          0.375,
          0.38333333333333336,
          0.39166666666666666,
          0.4,
          0.4083333333333333,
          0.4166666666666667,
          0.425,
          0.43333333333333335,
          0.44166666666666665,
          0.45,
          0.4583333333333333,
          0.4666666666666667,
          0.475,
          0.48333333333333334,
          0.49166666666666664,
          0.5,
          0.5083333333333333,
          0.5166666666666667,
          0.525,
          0.5333333333333333,
          0.5416666666666666,
          0.55,
          0.5583333333333333,
          0.5666666666666667,
          0.575,
          0.5833333333333334,
          0.5916666666666667,
          0.6,
          0.6083333333333333,
          0.6166666666666667,
          0.625,
          0.6333333333333333,
          0.6416666666666667,
          0.65,
          0.6583333333333333,
          0.6666666666666666,
          0.675,
          0.6833333333333333,
          0.6916666666666667,
          0.7,
          0.7083333333333334,
          0.7166666666666667,
          0.725,
          0.7333333333333333,
          0.7416666666666667,
          0.75,
          0.7583333333333333,
          0.7666666666666667,
          0.775,
          0.7833333333333333,
          0.7916666666666666,
          0.8,
          0.8083333333333333,
          0.8166666666666667,
          0.825,
          0.8333333333333334,
          0.8416666666666667,
          0.85,
          0.8583333333333333,
          0.8666666666666667,
          0.875,
          0.8833333333333333,
          0.8916666666666667,
          0.9,
          0.9083333333333333,
          0.9166666666666666,
          0.925,
          0.9333333333333333,
          0.9416666666666667,
          0.95,
          0.9583333333333334,
          0.9666666666666667,
          0.975,
          0.9833333333333333,
          0.9916666666666667,
          1
         ],
         "y": [
          46.64,
          44.03,
          41.92,
          40.74,
          39.44,
          32.68,
          29.85,
          28.37,
          28.22,
          26.47,
          24.34,
          23.69,
          23.63,
          21.93,
          21.34,
          20.99,
          19.66,
          18.83,
          18.74,
          18.41,
          18.17,
          16.49,
          16.4,
          14.71,
          14.36,
          14.35,
          12.94,
          12.27,
          11.36,
          9.51,
          9.36,
          8.54,
          7.69,
          7.64,
          6.93,
          6.59,
          6.36,
          6.12,
          5.93,
          5.71,
          5.45,
          5.45,
          5.32,
          5.21,
          5.17,
          5.1,
          4.97,
          4.96,
          4.93,
          4.46,
          4.12,
          4.04,
          3.93,
          3.9,
          3.9,
          3.85,
          3.84,
          3.78,
          3.66,
          3.59,
          3.59,
          3.56,
          3.54,
          3.53,
          3.45,
          3.38,
          3.27,
          3.19,
          2.97,
          2.9,
          2.81,
          2.78,
          2.76,
          2.63,
          2.56,
          2.55,
          2.51,
          2.43,
          2.38,
          2.36,
          2.27,
          2.26,
          2.26,
          2.26,
          2.23,
          2.23,
          2.18,
          2.15,
          2.11,
          2.1,
          2.09,
          2.07,
          2.05,
          1.99,
          1.95,
          1.94,
          1.9,
          1.87,
          1.84,
          1.82,
          1.81,
          1.79,
          1.78,
          1.77,
          1.69,
          1.66,
          1.63,
          1.6,
          1.6,
          1.58,
          1.54,
          1.42,
          1.4,
          1.4,
          1.39,
          1.39,
          1.33,
          1.3,
          1.21,
          1.14
         ]
        }
       ],
       "layout": {
        "template": {
         "data": {
          "bar": [
           {
            "error_x": {
             "color": "#2a3f5f"
            },
            "error_y": {
             "color": "#2a3f5f"
            },
            "marker": {
             "line": {
              "color": "#E5ECF6",
              "width": 0.5
             }
            },
            "type": "bar"
           }
          ],
          "barpolar": [
           {
            "marker": {
             "line": {
              "color": "#E5ECF6",
              "width": 0.5
             }
            },
            "type": "barpolar"
           }
          ],
          "carpet": [
           {
            "aaxis": {
             "endlinecolor": "#2a3f5f",
             "gridcolor": "white",
             "linecolor": "white",
             "minorgridcolor": "white",
             "startlinecolor": "#2a3f5f"
            },
            "baxis": {
             "endlinecolor": "#2a3f5f",
             "gridcolor": "white",
             "linecolor": "white",
             "minorgridcolor": "white",
             "startlinecolor": "#2a3f5f"
            },
            "type": "carpet"
           }
          ],
          "choropleth": [
           {
            "colorbar": {
             "outlinewidth": 0,
             "ticks": ""
            },
            "type": "choropleth"
           }
          ],
          "contour": [
           {
            "colorbar": {
             "outlinewidth": 0,
             "ticks": ""
            },
            "colorscale": [
             [
              0,
              "#0d0887"
             ],
             [
              0.1111111111111111,
              "#46039f"
             ],
             [
              0.2222222222222222,
              "#7201a8"
             ],
             [
              0.3333333333333333,
              "#9c179e"
             ],
             [
              0.4444444444444444,
              "#bd3786"
             ],
             [
              0.5555555555555556,
              "#d8576b"
             ],
             [
              0.6666666666666666,
              "#ed7953"
             ],
             [
              0.7777777777777778,
              "#fb9f3a"
             ],
             [
              0.8888888888888888,
              "#fdca26"
             ],
             [
              1,
              "#f0f921"
             ]
            ],
            "type": "contour"
           }
          ],
          "contourcarpet": [
           {
            "colorbar": {
             "outlinewidth": 0,
             "ticks": ""
            },
            "type": "contourcarpet"
           }
          ],
          "heatmap": [
           {
            "colorbar": {
             "outlinewidth": 0,
             "ticks": ""
            },
            "colorscale": [
             [
              0,
              "#0d0887"
             ],
             [
              0.1111111111111111,
              "#46039f"
             ],
             [
              0.2222222222222222,
              "#7201a8"
             ],
             [
              0.3333333333333333,
              "#9c179e"
             ],
             [
              0.4444444444444444,
              "#bd3786"
             ],
             [
              0.5555555555555556,
              "#d8576b"
             ],
             [
              0.6666666666666666,
              "#ed7953"
             ],
             [
              0.7777777777777778,
              "#fb9f3a"
             ],
             [
              0.8888888888888888,
              "#fdca26"
             ],
             [
              1,
              "#f0f921"
             ]
            ],
            "type": "heatmap"
           }
          ],
          "heatmapgl": [
           {
            "colorbar": {
             "outlinewidth": 0,
             "ticks": ""
            },
            "colorscale": [
             [
              0,
              "#0d0887"
             ],
             [
              0.1111111111111111,
              "#46039f"
             ],
             [
              0.2222222222222222,
              "#7201a8"
             ],
             [
              0.3333333333333333,
              "#9c179e"
             ],
             [
              0.4444444444444444,
              "#bd3786"
             ],
             [
              0.5555555555555556,
              "#d8576b"
             ],
             [
              0.6666666666666666,
              "#ed7953"
             ],
             [
              0.7777777777777778,
              "#fb9f3a"
             ],
             [
              0.8888888888888888,
              "#fdca26"
             ],
             [
              1,
              "#f0f921"
             ]
            ],
            "type": "heatmapgl"
           }
          ],
          "histogram": [
           {
            "marker": {
             "colorbar": {
              "outlinewidth": 0,
              "ticks": ""
             }
            },
            "type": "histogram"
           }
          ],
          "histogram2d": [
           {
            "colorbar": {
             "outlinewidth": 0,
             "ticks": ""
            },
            "colorscale": [
             [
              0,
              "#0d0887"
             ],
             [
              0.1111111111111111,
              "#46039f"
             ],
             [
              0.2222222222222222,
              "#7201a8"
             ],
             [
              0.3333333333333333,
              "#9c179e"
             ],
             [
              0.4444444444444444,
              "#bd3786"
             ],
             [
              0.5555555555555556,
              "#d8576b"
             ],
             [
              0.6666666666666666,
              "#ed7953"
             ],
             [
              0.7777777777777778,
              "#fb9f3a"
             ],
             [
              0.8888888888888888,
              "#fdca26"
             ],
             [
              1,
              "#f0f921"
             ]
            ],
            "type": "histogram2d"
           }
          ],
          "histogram2dcontour": [
           {
            "colorbar": {
             "outlinewidth": 0,
             "ticks": ""
            },
            "colorscale": [
             [
              0,
              "#0d0887"
             ],
             [
              0.1111111111111111,
              "#46039f"
             ],
             [
              0.2222222222222222,
              "#7201a8"
             ],
             [
              0.3333333333333333,
              "#9c179e"
             ],
             [
              0.4444444444444444,
              "#bd3786"
             ],
             [
              0.5555555555555556,
              "#d8576b"
             ],
             [
              0.6666666666666666,
              "#ed7953"
             ],
             [
              0.7777777777777778,
              "#fb9f3a"
             ],
             [
              0.8888888888888888,
              "#fdca26"
             ],
             [
              1,
              "#f0f921"
             ]
            ],
            "type": "histogram2dcontour"
           }
          ],
          "mesh3d": [
           {
            "colorbar": {
             "outlinewidth": 0,
             "ticks": ""
            },
            "type": "mesh3d"
           }
          ],
          "parcoords": [
           {
            "line": {
             "colorbar": {
              "outlinewidth": 0,
              "ticks": ""
             }
            },
            "type": "parcoords"
           }
          ],
          "pie": [
           {
            "automargin": true,
            "type": "pie"
           }
          ],
          "scatter": [
           {
            "marker": {
             "colorbar": {
              "outlinewidth": 0,
              "ticks": ""
             }
            },
            "type": "scatter"
           }
          ],
          "scatter3d": [
           {
            "line": {
             "colorbar": {
              "outlinewidth": 0,
              "ticks": ""
             }
            },
            "marker": {
             "colorbar": {
              "outlinewidth": 0,
              "ticks": ""
             }
            },
            "type": "scatter3d"
           }
          ],
          "scattercarpet": [
           {
            "marker": {
             "colorbar": {
              "outlinewidth": 0,
              "ticks": ""
             }
            },
            "type": "scattercarpet"
           }
          ],
          "scattergeo": [
           {
            "marker": {
             "colorbar": {
              "outlinewidth": 0,
              "ticks": ""
             }
            },
            "type": "scattergeo"
           }
          ],
          "scattergl": [
           {
            "marker": {
             "colorbar": {
              "outlinewidth": 0,
              "ticks": ""
             }
            },
            "type": "scattergl"
           }
          ],
          "scattermapbox": [
           {
            "marker": {
             "colorbar": {
              "outlinewidth": 0,
              "ticks": ""
             }
            },
            "type": "scattermapbox"
           }
          ],
          "scatterpolar": [
           {
            "marker": {
             "colorbar": {
              "outlinewidth": 0,
              "ticks": ""
             }
            },
            "type": "scatterpolar"
           }
          ],
          "scatterpolargl": [
           {
            "marker": {
             "colorbar": {
              "outlinewidth": 0,
              "ticks": ""
             }
            },
            "type": "scatterpolargl"
           }
          ],
          "scatterternary": [
           {
            "marker": {
             "colorbar": {
              "outlinewidth": 0,
              "ticks": ""
             }
            },
            "type": "scatterternary"
           }
          ],
          "surface": [
           {
            "colorbar": {
             "outlinewidth": 0,
             "ticks": ""
            },
            "colorscale": [
             [
              0,
              "#0d0887"
             ],
             [
              0.1111111111111111,
              "#46039f"
             ],
             [
              0.2222222222222222,
              "#7201a8"
             ],
             [
              0.3333333333333333,
              "#9c179e"
             ],
             [
              0.4444444444444444,
              "#bd3786"
             ],
             [
              0.5555555555555556,
              "#d8576b"
             ],
             [
              0.6666666666666666,
              "#ed7953"
             ],
             [
              0.7777777777777778,
              "#fb9f3a"
             ],
             [
              0.8888888888888888,
              "#fdca26"
             ],
             [
              1,
              "#f0f921"
             ]
            ],
            "type": "surface"
           }
          ],
          "table": [
           {
            "cells": {
             "fill": {
              "color": "#EBF0F8"
             },
             "line": {
              "color": "white"
             }
            },
            "header": {
             "fill": {
              "color": "#C8D4E3"
             },
             "line": {
              "color": "white"
             }
            },
            "type": "table"
           }
          ]
         },
         "layout": {
          "annotationdefaults": {
           "arrowcolor": "#2a3f5f",
           "arrowhead": 0,
           "arrowwidth": 1
          },
          "autotypenumbers": "strict",
          "coloraxis": {
           "colorbar": {
            "outlinewidth": 0,
            "ticks": ""
           }
          },
          "colorscale": {
           "diverging": [
            [
             0,
             "#8e0152"
            ],
            [
             0.1,
             "#c51b7d"
            ],
            [
             0.2,
             "#de77ae"
            ],
            [
             0.3,
             "#f1b6da"
            ],
            [
             0.4,
             "#fde0ef"
            ],
            [
             0.5,
             "#f7f7f7"
            ],
            [
             0.6,
             "#e6f5d0"
            ],
            [
             0.7,
             "#b8e186"
            ],
            [
             0.8,
             "#7fbc41"
            ],
            [
             0.9,
             "#4d9221"
            ],
            [
             1,
             "#276419"
            ]
           ],
           "sequential": [
            [
             0,
             "#0d0887"
            ],
            [
             0.1111111111111111,
             "#46039f"
            ],
            [
             0.2222222222222222,
             "#7201a8"
            ],
            [
             0.3333333333333333,
             "#9c179e"
            ],
            [
             0.4444444444444444,
             "#bd3786"
            ],
            [
             0.5555555555555556,
             "#d8576b"
            ],
            [
             0.6666666666666666,
             "#ed7953"
            ],
            [
             0.7777777777777778,
             "#fb9f3a"
            ],
            [
             0.8888888888888888,
             "#fdca26"
            ],
            [
             1,
             "#f0f921"
            ]
           ],
           "sequentialminus": [
            [
             0,
             "#0d0887"
            ],
            [
             0.1111111111111111,
             "#46039f"
            ],
            [
             0.2222222222222222,
             "#7201a8"
            ],
            [
             0.3333333333333333,
             "#9c179e"
            ],
            [
             0.4444444444444444,
             "#bd3786"
            ],
            [
             0.5555555555555556,
             "#d8576b"
            ],
            [
             0.6666666666666666,
             "#ed7953"
            ],
            [
             0.7777777777777778,
             "#fb9f3a"
            ],
            [
             0.8888888888888888,
             "#fdca26"
            ],
            [
             1,
             "#f0f921"
            ]
           ]
          },
          "colorway": [
           "#636efa",
           "#EF553B",
           "#00cc96",
           "#ab63fa",
           "#FFA15A",
           "#19d3f3",
           "#FF6692",
           "#B6E880",
           "#FF97FF",
           "#FECB52"
          ],
          "font": {
           "color": "#2a3f5f"
          },
          "geo": {
           "bgcolor": "white",
           "lakecolor": "white",
           "landcolor": "#E5ECF6",
           "showlakes": true,
           "showland": true,
           "subunitcolor": "white"
          },
          "hoverlabel": {
           "align": "left"
          },
          "hovermode": "closest",
          "mapbox": {
           "style": "light"
          },
          "paper_bgcolor": "white",
          "plot_bgcolor": "#E5ECF6",
          "polar": {
           "angularaxis": {
            "gridcolor": "white",
            "linecolor": "white",
            "ticks": ""
           },
           "bgcolor": "#E5ECF6",
           "radialaxis": {
            "gridcolor": "white",
            "linecolor": "white",
            "ticks": ""
           }
          },
          "scene": {
           "xaxis": {
            "backgroundcolor": "#E5ECF6",
            "gridcolor": "white",
            "gridwidth": 2,
            "linecolor": "white",
            "showbackground": true,
            "ticks": "",
            "zerolinecolor": "white"
           },
           "yaxis": {
            "backgroundcolor": "#E5ECF6",
            "gridcolor": "white",
            "gridwidth": 2,
            "linecolor": "white",
            "showbackground": true,
            "ticks": "",
            "zerolinecolor": "white"
           },
           "zaxis": {
            "backgroundcolor": "#E5ECF6",
            "gridcolor": "white",
            "gridwidth": 2,
            "linecolor": "white",
            "showbackground": true,
            "ticks": "",
            "zerolinecolor": "white"
           }
          },
          "shapedefaults": {
           "line": {
            "color": "#2a3f5f"
           }
          },
          "ternary": {
           "aaxis": {
            "gridcolor": "white",
            "linecolor": "white",
            "ticks": ""
           },
           "baxis": {
            "gridcolor": "white",
            "linecolor": "white",
            "ticks": ""
           },
           "bgcolor": "#E5ECF6",
           "caxis": {
            "gridcolor": "white",
            "linecolor": "white",
            "ticks": ""
           }
          },
          "title": {
           "x": 0.05
          },
          "xaxis": {
           "automargin": true,
           "gridcolor": "white",
           "linecolor": "white",
           "ticks": "",
           "title": {
            "standoff": 15
           },
           "zerolinecolor": "white",
           "zerolinewidth": 2
          },
          "yaxis": {
           "automargin": true,
           "gridcolor": "white",
           "linecolor": "white",
           "ticks": "",
           "title": {
            "standoff": 15
           },
           "zerolinecolor": "white",
           "zerolinewidth": 2
          }
         }
        },
        "yaxis": {
         "type": "log"
        }
       }
      }
     },
     "metadata": {}
    }
   ],
   "source": [
    "fig = go.Figure()\n",
    "fig.add_trace(go.Scatter(\n",
    "    x=exceedence, y=sort, name='Reach',\n",
    "    # line=dict(color=colors[i], width=2),\n",
    "    # legendgroup='Reach {}'.format(sims[i])\n",
    "    ))\n",
    "fig.update_yaxes(type=\"log\")"
   ]
  },
  {
   "cell_type": "code",
   "execution_count": null,
   "metadata": {},
   "outputs": [],
   "source": []
  }
 ]
}